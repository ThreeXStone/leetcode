{
 "cells": [
  {
   "cell_type": "markdown",
   "id": "a40d7751-1365-45a9-969e-5fd55b555ab1",
   "metadata": {},
   "source": [
    "## 按对角线遍历矩阵\n",
    "```python\n",
    "for _ in range(m * n):\n",
    "    print(mat[row][col])\n",
    "\n",
    "    # 计算下一个位置 , 同一条对角线上的点（i+j）相等，且偶数向上移动，奇数向下移动\n",
    "    if (row+col)%2 == 0:  # 向上移动\n",
    "        if col == n - 1:  # 如果到达最右边，向下移动\n",
    "            row += 1\n",
    "        elif row == 0:  # 如果到达最上边，向右移动\n",
    "            col += 1\n",
    "        else:  # 正常向上移动\n",
    "            row -= 1\n",
    "            col += 1\n",
    "    else:  # 向下移动\n",
    "        if row == m - 1:  # 如果到达最下边，向右移动\n",
    "            col += 1\n",
    "        elif col == 0:  # 如果到达最左边，向下移动\n",
    "            row += 1\n",
    "        else:  # 正常向下移动\n",
    "            row += 1\n",
    "            col -= 1\n",
    "```"
   ]
  }
 ],
 "metadata": {
  "kernelspec": {
   "display_name": "Python 3 (ipykernel)",
   "language": "python",
   "name": "python3"
  },
  "language_info": {
   "codemirror_mode": {
    "name": "ipython",
    "version": 3
   },
   "file_extension": ".py",
   "mimetype": "text/x-python",
   "name": "python",
   "nbconvert_exporter": "python",
   "pygments_lexer": "ipython3",
   "version": "3.13.5"
  }
 },
 "nbformat": 4,
 "nbformat_minor": 5
}
